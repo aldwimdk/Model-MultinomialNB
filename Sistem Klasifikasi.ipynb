{
 "cells": [
  {
   "cell_type": "code",
   "execution_count": null,
   "id": "6ecc61cc",
   "metadata": {},
   "outputs": [],
   "source": [
    "import warnings\n",
    "warnings.filterwarnings('ignore')\n",
    "import joblib\n",
    "\n",
    "# Membuka model\n",
    "classifier = joblib.load('model_mnb.pkl')\n",
    "\n",
    "# Membuka ekstraksi fitur\n",
    "tfidf = joblib.load('tfidf.joblib')"
   ]
  },
  {
   "cell_type": "code",
   "execution_count": null,
   "id": "c74708ee",
   "metadata": {},
   "outputs": [],
   "source": [
    "# Fungsi untuk melakukan prediksi label teks\n",
    "def get_class(text):\n",
    "    # Mengubah teks menjadi vektor fitur\n",
    "    text_vector = tfidf.transform(text).toarray()\n",
    "    \n",
    "    # Melakukan prediksi menggunakan model klasifikasi\n",
    "    classification = classifier.predict(text_vector)\n",
    "    \n",
    "    # Menampilkan hasil prediksi\n",
    "    if classification [0] > 0.5:\n",
    "        print(\"Klasifikasi: Pornografi\")\n",
    "    else:\n",
    "        print(\"Klasifikasi: Non-Pornografi\")"
   ]
  },
  {
   "cell_type": "code",
   "execution_count": null,
   "id": "3a66b941",
   "metadata": {},
   "outputs": [],
   "source": [
    "# Teks website yang akan diklasifikasikan\n",
    "text = input(\"Input Text Here: \")\n",
    "\n",
    "# Menampilkan teks input\n",
    "print(text)\n",
    "\n",
    "# Melakukan prediksi label teks\n",
    "get_class([text])"
   ]
  },
  {
   "cell_type": "code",
   "execution_count": null,
   "id": "c4e0f534",
   "metadata": {},
   "outputs": [],
   "source": []
  }
 ],
 "metadata": {
  "kernelspec": {
   "display_name": "Python 3 (ipykernel)",
   "language": "python",
   "name": "python3"
  },
  "language_info": {
   "codemirror_mode": {
    "name": "ipython",
    "version": 3
   },
   "file_extension": ".py",
   "mimetype": "text/x-python",
   "name": "python",
   "nbconvert_exporter": "python",
   "pygments_lexer": "ipython3",
   "version": "3.10.8"
  }
 },
 "nbformat": 4,
 "nbformat_minor": 5
}
